{
 "cells": [
  {
   "cell_type": "code",
   "execution_count": 4,
   "metadata": {},
   "outputs": [
    {
     "name": "stdout",
     "output_type": "stream",
     "text": [
      "請輸入縣市名稱:新竹\n",
      "新竹共有81個測站，平均 PM 2.5 是 0\n"
     ]
    }
   ],
   "source": [
    "import urllib, json\n",
    "from urllib import request\n",
    "s = 0\n",
    "k = 0\n",
    "url = \"http://opendata2.epa.gov.tw/AQI.json\"\n",
    "response = request.urlopen(url)\n",
    "content = response.read()\n",
    "content = content.decode('utf-8')\n",
    "data_list = json.loads(content)\n",
    "c = input(\"請輸入縣市名稱:\")\n",
    "for i in range(0,81):\n",
    "    if c == data_list[i][\"County\"]:\n",
    "        s = s + int(data_list[i][\"PM2.5\"])\n",
    "    k=k+1\n",
    "if k == 0:\n",
    "    print(\"查無資料\")\n",
    "else:\n",
    "    print (c + \"共有\" + str(k) + \"個測站，平均 PM 2.5 是 \" + str(round(s/k)))\n"
   ]
  },
  {
   "cell_type": "code",
   "execution_count": 1,
   "metadata": {},
   "outputs": [
    {
     "name": "stdout",
     "output_type": "stream",
     "text": [
      "200\n",
      "<class 'requests.models.Response'>\n"
     ]
    }
   ],
   "source": [
    "import requests\n",
    "\n",
    "r = requests.get(\"http://opendata2.epa.gov.tw/AQI.json\", verify=False)\n",
    "print(r.status_code)\n",
    "print(type(r))\n"
   ]
  },
  {
   "cell_type": "code",
   "execution_count": null,
   "metadata": {},
   "outputs": [],
   "source": []
  },
  {
   "cell_type": "code",
   "execution_count": null,
   "metadata": {},
   "outputs": [],
   "source": []
  }
 ],
 "metadata": {
  "kernelspec": {
   "display_name": "Python 3",
   "language": "python",
   "name": "python3"
  },
  "language_info": {
   "codemirror_mode": {
    "name": "ipython",
    "version": 3
   },
   "file_extension": ".py",
   "mimetype": "text/x-python",
   "name": "python",
   "nbconvert_exporter": "python",
   "pygments_lexer": "ipython3",
   "version": "3.8.3"
  }
 },
 "nbformat": 4,
 "nbformat_minor": 4
}
